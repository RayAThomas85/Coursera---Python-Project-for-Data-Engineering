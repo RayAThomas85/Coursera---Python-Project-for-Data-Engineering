{
  "cells": [
    {
      "cell_type": "markdown",
      "metadata": {
        "id": "view-in-github",
        "colab_type": "text"
      },
      "source": [
        "<a href=\"https://colab.research.google.com/github/RayAThomas85/Coursera---Python-Project-for-Data-Engineering/blob/main/Webscraping_Engineer_Peer_Review_Assignment.ipynb\" target=\"_parent\"><img src=\"https://colab.research.google.com/assets/colab-badge.svg\" alt=\"Open In Colab\"/></a>"
      ]
    },
    {
      "cell_type": "markdown",
      "metadata": {
        "id": "oyLoaEYn7Yxu"
      },
      "source": [
        "<p style=\"text-align:center\">\n",
        "    <a href=\"https://skills.network/?utm_medium=Exinfluencer&utm_source=Exinfluencer&utm_content=000026UJ&utm_term=10006555&utm_id=NA-SkillsNetwork-Channel-SkillsNetworkCoursesIBMDeveloperSkillsNetworkPY0221ENSkillsNetwork899-2023-01-01\">\n",
        "    <img src=\"https://cf-courses-data.s3.us.cloud-object-storage.appdomain.cloud/assets/logos/SN_web_lightmode.png\" width=\"200\" alt=\"Skills Network Logo\"  />\n",
        "    </a>\n",
        "</p>\n"
      ]
    },
    {
      "cell_type": "markdown",
      "metadata": {
        "id": "LQycTh257Yxy"
      },
      "source": [
        "# Peer Review Assignment - Data Engineer - Webscraping\n"
      ]
    },
    {
      "cell_type": "markdown",
      "metadata": {
        "id": "LKdGVkKE7Yxy"
      },
      "source": [
        "Estimated time needed: **20** minutes\n"
      ]
    },
    {
      "cell_type": "markdown",
      "metadata": {
        "id": "Li9vA-gy7Yxy"
      },
      "source": [
        "## Objectives\n",
        "\n",
        "In this part you will:\n",
        "\n",
        "- Use webscraping to get bank information\n"
      ]
    },
    {
      "cell_type": "markdown",
      "metadata": {
        "id": "Srv5KnSV7Yxz"
      },
      "source": [
        "For this lab, we are going to be using Python and several Python libraries. Some of these libraries might be installed in your lab environment or in SN Labs. Others may need to be installed by you. The cells below will install these libraries when executed.\n"
      ]
    },
    {
      "cell_type": "code",
      "execution_count": 1,
      "metadata": {
        "tags": [],
        "colab": {
          "base_uri": "https://localhost:8080/"
        },
        "id": "2g96YW9f7Yxz",
        "outputId": "ab062c2d-a8ef-4bee-f097-03e36d00dbe1"
      },
      "outputs": [
        {
          "output_type": "stream",
          "name": "stdout",
          "text": [
            "/bin/bash: mamba: command not found\n",
            "/bin/bash: mamba: command not found\n"
          ]
        }
      ],
      "source": [
        "#!mamba install pandas==1.3.3 -y\n",
        "#!mamba install requests==2.26.0 -y\n",
        "!mamba install bs4==4.10.0 -y\n",
        "!mamba install html5lib==1.1 -y"
      ]
    },
    {
      "cell_type": "markdown",
      "metadata": {
        "id": "ln8eTIDT7Yx2"
      },
      "source": [
        "## Imports\n",
        "\n",
        "Import any additional libraries you may need here.\n"
      ]
    },
    {
      "cell_type": "code",
      "execution_count": 2,
      "metadata": {
        "tags": [],
        "id": "ctHDy2Bu7Yx2"
      },
      "outputs": [],
      "source": [
        "from bs4 import BeautifulSoup\n",
        "import html5lib\n",
        "import requests\n",
        "import pandas as pd"
      ]
    },
    {
      "cell_type": "markdown",
      "metadata": {
        "id": "DvNf60Bn7Yx3"
      },
      "source": [
        "## Extract Data Using Web Scraping\n"
      ]
    },
    {
      "cell_type": "markdown",
      "metadata": {
        "id": "Ch8Tm5vY7Yx3"
      },
      "source": [
        "The wikipedia webpage https://web.archive.org/web/20200318083015/https://en.wikipedia.org/wiki/List_of_largest_banks provides information about largest banks in the world by various parameters. Scrape the data from the table 'By market capitalization' and store it in a JSON file."
      ]
    },
    {
      "cell_type": "markdown",
      "metadata": {
        "id": "sC2KdEtE7Yx4"
      },
      "source": [
        "### Webpage Contents\n",
        "\n",
        "Gather the contents of the webpage in text format using the `requests` library and assign it to the variable <code>html_data</code>\n"
      ]
    },
    {
      "cell_type": "code",
      "execution_count": 3,
      "metadata": {
        "tags": [],
        "id": "crcIGPa87Yx4"
      },
      "outputs": [],
      "source": [
        "#Write your code here\n",
        "url = \"https://web.archive.org/web/20200318083015/https://en.wikipedia.org/wiki/List_of_largest_banks\"\n",
        "html_data = requests.get(url).text"
      ]
    },
    {
      "cell_type": "markdown",
      "metadata": {
        "id": "o2t4Ie8-7Yx4"
      },
      "source": [
        "<b>Question 1</b> Print out the output of the following line, and remember it as it will be a quiz question:\n"
      ]
    },
    {
      "cell_type": "code",
      "execution_count": 4,
      "metadata": {
        "tags": [],
        "colab": {
          "base_uri": "https://localhost:8080/",
          "height": 36
        },
        "id": "TrN0Vh827Yx4",
        "outputId": "7299a8e1-d67c-4413-9663-65a791ceef53"
      },
      "outputs": [
        {
          "output_type": "execute_result",
          "data": {
            "text/plain": [
              "'List of largest banks -'"
            ],
            "application/vnd.google.colaboratory.intrinsic+json": {
              "type": "string"
            }
          },
          "metadata": {},
          "execution_count": 4
        }
      ],
      "source": [
        "html_data[760:783]"
      ]
    },
    {
      "cell_type": "markdown",
      "metadata": {
        "id": "_JMrSO0L7Yx5"
      },
      "source": [
        "### Scraping the Data\n",
        "\n",
        "<b> Question 2</b> Using the contents and `beautiful soup` load the data from the `By market capitalization` table into a `pandas` dataframe. The dataframe should have the bank `Name` and `Market Cap (US$ Billion)` as column names.  Display the first five rows using head.\n"
      ]
    },
    {
      "cell_type": "markdown",
      "metadata": {
        "id": "k87jGAz_7Yx5"
      },
      "source": [
        "Using BeautifulSoup parse the contents of the webpage.\n"
      ]
    },
    {
      "cell_type": "code",
      "execution_count": 5,
      "metadata": {
        "tags": [],
        "id": "Ana9m3zQ7Yx5"
      },
      "outputs": [],
      "source": [
        "#Replace the dots below\n",
        "soup= BeautifulSoup(html_data, 'html5lib')"
      ]
    },
    {
      "cell_type": "markdown",
      "metadata": {
        "id": "iy8vdPXr7Yx6"
      },
      "source": [
        "Load the data from the `By market capitalization` table into a pandas dataframe. The dataframe should have the bank `Name` and `Market Cap (US$ Billion)` as column names. Using the empty dataframe `data` and the given loop extract the necessary data from each row and append it to the empty dataframe.\n"
      ]
    },
    {
      "cell_type": "code",
      "execution_count": 6,
      "metadata": {
        "tags": [],
        "colab": {
          "base_uri": "https://localhost:8080/"
        },
        "id": "9a5yJDMN7Yx6",
        "outputId": "e211be23-5482-402e-85fa-630a89ad8342"
      },
      "outputs": [
        {
          "output_type": "stream",
          "name": "stderr",
          "text": [
            "<ipython-input-6-bdf669fa5743>:9: FutureWarning: The frame.append method is deprecated and will be removed from pandas in a future version. Use pandas.concat instead.\n",
            "  data = data.append({\"Name\":name, \"Market Cap (US$ Billion)\":market_cap}, ignore_index=True)\n",
            "<ipython-input-6-bdf669fa5743>:9: FutureWarning: The frame.append method is deprecated and will be removed from pandas in a future version. Use pandas.concat instead.\n",
            "  data = data.append({\"Name\":name, \"Market Cap (US$ Billion)\":market_cap}, ignore_index=True)\n",
            "<ipython-input-6-bdf669fa5743>:9: FutureWarning: The frame.append method is deprecated and will be removed from pandas in a future version. Use pandas.concat instead.\n",
            "  data = data.append({\"Name\":name, \"Market Cap (US$ Billion)\":market_cap}, ignore_index=True)\n",
            "<ipython-input-6-bdf669fa5743>:9: FutureWarning: The frame.append method is deprecated and will be removed from pandas in a future version. Use pandas.concat instead.\n",
            "  data = data.append({\"Name\":name, \"Market Cap (US$ Billion)\":market_cap}, ignore_index=True)\n",
            "<ipython-input-6-bdf669fa5743>:9: FutureWarning: The frame.append method is deprecated and will be removed from pandas in a future version. Use pandas.concat instead.\n",
            "  data = data.append({\"Name\":name, \"Market Cap (US$ Billion)\":market_cap}, ignore_index=True)\n",
            "<ipython-input-6-bdf669fa5743>:9: FutureWarning: The frame.append method is deprecated and will be removed from pandas in a future version. Use pandas.concat instead.\n",
            "  data = data.append({\"Name\":name, \"Market Cap (US$ Billion)\":market_cap}, ignore_index=True)\n",
            "<ipython-input-6-bdf669fa5743>:9: FutureWarning: The frame.append method is deprecated and will be removed from pandas in a future version. Use pandas.concat instead.\n",
            "  data = data.append({\"Name\":name, \"Market Cap (US$ Billion)\":market_cap}, ignore_index=True)\n",
            "<ipython-input-6-bdf669fa5743>:9: FutureWarning: The frame.append method is deprecated and will be removed from pandas in a future version. Use pandas.concat instead.\n",
            "  data = data.append({\"Name\":name, \"Market Cap (US$ Billion)\":market_cap}, ignore_index=True)\n",
            "<ipython-input-6-bdf669fa5743>:9: FutureWarning: The frame.append method is deprecated and will be removed from pandas in a future version. Use pandas.concat instead.\n",
            "  data = data.append({\"Name\":name, \"Market Cap (US$ Billion)\":market_cap}, ignore_index=True)\n",
            "<ipython-input-6-bdf669fa5743>:9: FutureWarning: The frame.append method is deprecated and will be removed from pandas in a future version. Use pandas.concat instead.\n",
            "  data = data.append({\"Name\":name, \"Market Cap (US$ Billion)\":market_cap}, ignore_index=True)\n",
            "<ipython-input-6-bdf669fa5743>:9: FutureWarning: The frame.append method is deprecated and will be removed from pandas in a future version. Use pandas.concat instead.\n",
            "  data = data.append({\"Name\":name, \"Market Cap (US$ Billion)\":market_cap}, ignore_index=True)\n",
            "<ipython-input-6-bdf669fa5743>:9: FutureWarning: The frame.append method is deprecated and will be removed from pandas in a future version. Use pandas.concat instead.\n",
            "  data = data.append({\"Name\":name, \"Market Cap (US$ Billion)\":market_cap}, ignore_index=True)\n",
            "<ipython-input-6-bdf669fa5743>:9: FutureWarning: The frame.append method is deprecated and will be removed from pandas in a future version. Use pandas.concat instead.\n",
            "  data = data.append({\"Name\":name, \"Market Cap (US$ Billion)\":market_cap}, ignore_index=True)\n",
            "<ipython-input-6-bdf669fa5743>:9: FutureWarning: The frame.append method is deprecated and will be removed from pandas in a future version. Use pandas.concat instead.\n",
            "  data = data.append({\"Name\":name, \"Market Cap (US$ Billion)\":market_cap}, ignore_index=True)\n",
            "<ipython-input-6-bdf669fa5743>:9: FutureWarning: The frame.append method is deprecated and will be removed from pandas in a future version. Use pandas.concat instead.\n",
            "  data = data.append({\"Name\":name, \"Market Cap (US$ Billion)\":market_cap}, ignore_index=True)\n",
            "<ipython-input-6-bdf669fa5743>:9: FutureWarning: The frame.append method is deprecated and will be removed from pandas in a future version. Use pandas.concat instead.\n",
            "  data = data.append({\"Name\":name, \"Market Cap (US$ Billion)\":market_cap}, ignore_index=True)\n",
            "<ipython-input-6-bdf669fa5743>:9: FutureWarning: The frame.append method is deprecated and will be removed from pandas in a future version. Use pandas.concat instead.\n",
            "  data = data.append({\"Name\":name, \"Market Cap (US$ Billion)\":market_cap}, ignore_index=True)\n",
            "<ipython-input-6-bdf669fa5743>:9: FutureWarning: The frame.append method is deprecated and will be removed from pandas in a future version. Use pandas.concat instead.\n",
            "  data = data.append({\"Name\":name, \"Market Cap (US$ Billion)\":market_cap}, ignore_index=True)\n",
            "<ipython-input-6-bdf669fa5743>:9: FutureWarning: The frame.append method is deprecated and will be removed from pandas in a future version. Use pandas.concat instead.\n",
            "  data = data.append({\"Name\":name, \"Market Cap (US$ Billion)\":market_cap}, ignore_index=True)\n",
            "<ipython-input-6-bdf669fa5743>:9: FutureWarning: The frame.append method is deprecated and will be removed from pandas in a future version. Use pandas.concat instead.\n",
            "  data = data.append({\"Name\":name, \"Market Cap (US$ Billion)\":market_cap}, ignore_index=True)\n",
            "<ipython-input-6-bdf669fa5743>:9: FutureWarning: The frame.append method is deprecated and will be removed from pandas in a future version. Use pandas.concat instead.\n",
            "  data = data.append({\"Name\":name, \"Market Cap (US$ Billion)\":market_cap}, ignore_index=True)\n",
            "<ipython-input-6-bdf669fa5743>:9: FutureWarning: The frame.append method is deprecated and will be removed from pandas in a future version. Use pandas.concat instead.\n",
            "  data = data.append({\"Name\":name, \"Market Cap (US$ Billion)\":market_cap}, ignore_index=True)\n",
            "<ipython-input-6-bdf669fa5743>:9: FutureWarning: The frame.append method is deprecated and will be removed from pandas in a future version. Use pandas.concat instead.\n",
            "  data = data.append({\"Name\":name, \"Market Cap (US$ Billion)\":market_cap}, ignore_index=True)\n",
            "<ipython-input-6-bdf669fa5743>:9: FutureWarning: The frame.append method is deprecated and will be removed from pandas in a future version. Use pandas.concat instead.\n",
            "  data = data.append({\"Name\":name, \"Market Cap (US$ Billion)\":market_cap}, ignore_index=True)\n",
            "<ipython-input-6-bdf669fa5743>:9: FutureWarning: The frame.append method is deprecated and will be removed from pandas in a future version. Use pandas.concat instead.\n",
            "  data = data.append({\"Name\":name, \"Market Cap (US$ Billion)\":market_cap}, ignore_index=True)\n",
            "<ipython-input-6-bdf669fa5743>:9: FutureWarning: The frame.append method is deprecated and will be removed from pandas in a future version. Use pandas.concat instead.\n",
            "  data = data.append({\"Name\":name, \"Market Cap (US$ Billion)\":market_cap}, ignore_index=True)\n",
            "<ipython-input-6-bdf669fa5743>:9: FutureWarning: The frame.append method is deprecated and will be removed from pandas in a future version. Use pandas.concat instead.\n",
            "  data = data.append({\"Name\":name, \"Market Cap (US$ Billion)\":market_cap}, ignore_index=True)\n",
            "<ipython-input-6-bdf669fa5743>:9: FutureWarning: The frame.append method is deprecated and will be removed from pandas in a future version. Use pandas.concat instead.\n",
            "  data = data.append({\"Name\":name, \"Market Cap (US$ Billion)\":market_cap}, ignore_index=True)\n",
            "<ipython-input-6-bdf669fa5743>:9: FutureWarning: The frame.append method is deprecated and will be removed from pandas in a future version. Use pandas.concat instead.\n",
            "  data = data.append({\"Name\":name, \"Market Cap (US$ Billion)\":market_cap}, ignore_index=True)\n",
            "<ipython-input-6-bdf669fa5743>:9: FutureWarning: The frame.append method is deprecated and will be removed from pandas in a future version. Use pandas.concat instead.\n",
            "  data = data.append({\"Name\":name, \"Market Cap (US$ Billion)\":market_cap}, ignore_index=True)\n",
            "<ipython-input-6-bdf669fa5743>:9: FutureWarning: The frame.append method is deprecated and will be removed from pandas in a future version. Use pandas.concat instead.\n",
            "  data = data.append({\"Name\":name, \"Market Cap (US$ Billion)\":market_cap}, ignore_index=True)\n",
            "<ipython-input-6-bdf669fa5743>:9: FutureWarning: The frame.append method is deprecated and will be removed from pandas in a future version. Use pandas.concat instead.\n",
            "  data = data.append({\"Name\":name, \"Market Cap (US$ Billion)\":market_cap}, ignore_index=True)\n",
            "<ipython-input-6-bdf669fa5743>:9: FutureWarning: The frame.append method is deprecated and will be removed from pandas in a future version. Use pandas.concat instead.\n",
            "  data = data.append({\"Name\":name, \"Market Cap (US$ Billion)\":market_cap}, ignore_index=True)\n",
            "<ipython-input-6-bdf669fa5743>:9: FutureWarning: The frame.append method is deprecated and will be removed from pandas in a future version. Use pandas.concat instead.\n",
            "  data = data.append({\"Name\":name, \"Market Cap (US$ Billion)\":market_cap}, ignore_index=True)\n",
            "<ipython-input-6-bdf669fa5743>:9: FutureWarning: The frame.append method is deprecated and will be removed from pandas in a future version. Use pandas.concat instead.\n",
            "  data = data.append({\"Name\":name, \"Market Cap (US$ Billion)\":market_cap}, ignore_index=True)\n",
            "<ipython-input-6-bdf669fa5743>:9: FutureWarning: The frame.append method is deprecated and will be removed from pandas in a future version. Use pandas.concat instead.\n",
            "  data = data.append({\"Name\":name, \"Market Cap (US$ Billion)\":market_cap}, ignore_index=True)\n",
            "<ipython-input-6-bdf669fa5743>:9: FutureWarning: The frame.append method is deprecated and will be removed from pandas in a future version. Use pandas.concat instead.\n",
            "  data = data.append({\"Name\":name, \"Market Cap (US$ Billion)\":market_cap}, ignore_index=True)\n",
            "<ipython-input-6-bdf669fa5743>:9: FutureWarning: The frame.append method is deprecated and will be removed from pandas in a future version. Use pandas.concat instead.\n",
            "  data = data.append({\"Name\":name, \"Market Cap (US$ Billion)\":market_cap}, ignore_index=True)\n",
            "<ipython-input-6-bdf669fa5743>:9: FutureWarning: The frame.append method is deprecated and will be removed from pandas in a future version. Use pandas.concat instead.\n",
            "  data = data.append({\"Name\":name, \"Market Cap (US$ Billion)\":market_cap}, ignore_index=True)\n",
            "<ipython-input-6-bdf669fa5743>:9: FutureWarning: The frame.append method is deprecated and will be removed from pandas in a future version. Use pandas.concat instead.\n",
            "  data = data.append({\"Name\":name, \"Market Cap (US$ Billion)\":market_cap}, ignore_index=True)\n",
            "<ipython-input-6-bdf669fa5743>:9: FutureWarning: The frame.append method is deprecated and will be removed from pandas in a future version. Use pandas.concat instead.\n",
            "  data = data.append({\"Name\":name, \"Market Cap (US$ Billion)\":market_cap}, ignore_index=True)\n",
            "<ipython-input-6-bdf669fa5743>:9: FutureWarning: The frame.append method is deprecated and will be removed from pandas in a future version. Use pandas.concat instead.\n",
            "  data = data.append({\"Name\":name, \"Market Cap (US$ Billion)\":market_cap}, ignore_index=True)\n",
            "<ipython-input-6-bdf669fa5743>:9: FutureWarning: The frame.append method is deprecated and will be removed from pandas in a future version. Use pandas.concat instead.\n",
            "  data = data.append({\"Name\":name, \"Market Cap (US$ Billion)\":market_cap}, ignore_index=True)\n",
            "<ipython-input-6-bdf669fa5743>:9: FutureWarning: The frame.append method is deprecated and will be removed from pandas in a future version. Use pandas.concat instead.\n",
            "  data = data.append({\"Name\":name, \"Market Cap (US$ Billion)\":market_cap}, ignore_index=True)\n",
            "<ipython-input-6-bdf669fa5743>:9: FutureWarning: The frame.append method is deprecated and will be removed from pandas in a future version. Use pandas.concat instead.\n",
            "  data = data.append({\"Name\":name, \"Market Cap (US$ Billion)\":market_cap}, ignore_index=True)\n",
            "<ipython-input-6-bdf669fa5743>:9: FutureWarning: The frame.append method is deprecated and will be removed from pandas in a future version. Use pandas.concat instead.\n",
            "  data = data.append({\"Name\":name, \"Market Cap (US$ Billion)\":market_cap}, ignore_index=True)\n",
            "<ipython-input-6-bdf669fa5743>:9: FutureWarning: The frame.append method is deprecated and will be removed from pandas in a future version. Use pandas.concat instead.\n",
            "  data = data.append({\"Name\":name, \"Market Cap (US$ Billion)\":market_cap}, ignore_index=True)\n",
            "<ipython-input-6-bdf669fa5743>:9: FutureWarning: The frame.append method is deprecated and will be removed from pandas in a future version. Use pandas.concat instead.\n",
            "  data = data.append({\"Name\":name, \"Market Cap (US$ Billion)\":market_cap}, ignore_index=True)\n",
            "<ipython-input-6-bdf669fa5743>:9: FutureWarning: The frame.append method is deprecated and will be removed from pandas in a future version. Use pandas.concat instead.\n",
            "  data = data.append({\"Name\":name, \"Market Cap (US$ Billion)\":market_cap}, ignore_index=True)\n",
            "<ipython-input-6-bdf669fa5743>:9: FutureWarning: The frame.append method is deprecated and will be removed from pandas in a future version. Use pandas.concat instead.\n",
            "  data = data.append({\"Name\":name, \"Market Cap (US$ Billion)\":market_cap}, ignore_index=True)\n",
            "<ipython-input-6-bdf669fa5743>:9: FutureWarning: The frame.append method is deprecated and will be removed from pandas in a future version. Use pandas.concat instead.\n",
            "  data = data.append({\"Name\":name, \"Market Cap (US$ Billion)\":market_cap}, ignore_index=True)\n",
            "<ipython-input-6-bdf669fa5743>:9: FutureWarning: The frame.append method is deprecated and will be removed from pandas in a future version. Use pandas.concat instead.\n",
            "  data = data.append({\"Name\":name, \"Market Cap (US$ Billion)\":market_cap}, ignore_index=True)\n",
            "<ipython-input-6-bdf669fa5743>:9: FutureWarning: The frame.append method is deprecated and will be removed from pandas in a future version. Use pandas.concat instead.\n",
            "  data = data.append({\"Name\":name, \"Market Cap (US$ Billion)\":market_cap}, ignore_index=True)\n",
            "<ipython-input-6-bdf669fa5743>:9: FutureWarning: The frame.append method is deprecated and will be removed from pandas in a future version. Use pandas.concat instead.\n",
            "  data = data.append({\"Name\":name, \"Market Cap (US$ Billion)\":market_cap}, ignore_index=True)\n",
            "<ipython-input-6-bdf669fa5743>:9: FutureWarning: The frame.append method is deprecated and will be removed from pandas in a future version. Use pandas.concat instead.\n",
            "  data = data.append({\"Name\":name, \"Market Cap (US$ Billion)\":market_cap}, ignore_index=True)\n",
            "<ipython-input-6-bdf669fa5743>:9: FutureWarning: The frame.append method is deprecated and will be removed from pandas in a future version. Use pandas.concat instead.\n",
            "  data = data.append({\"Name\":name, \"Market Cap (US$ Billion)\":market_cap}, ignore_index=True)\n",
            "<ipython-input-6-bdf669fa5743>:9: FutureWarning: The frame.append method is deprecated and will be removed from pandas in a future version. Use pandas.concat instead.\n",
            "  data = data.append({\"Name\":name, \"Market Cap (US$ Billion)\":market_cap}, ignore_index=True)\n",
            "<ipython-input-6-bdf669fa5743>:9: FutureWarning: The frame.append method is deprecated and will be removed from pandas in a future version. Use pandas.concat instead.\n",
            "  data = data.append({\"Name\":name, \"Market Cap (US$ Billion)\":market_cap}, ignore_index=True)\n",
            "<ipython-input-6-bdf669fa5743>:9: FutureWarning: The frame.append method is deprecated and will be removed from pandas in a future version. Use pandas.concat instead.\n",
            "  data = data.append({\"Name\":name, \"Market Cap (US$ Billion)\":market_cap}, ignore_index=True)\n",
            "<ipython-input-6-bdf669fa5743>:9: FutureWarning: The frame.append method is deprecated and will be removed from pandas in a future version. Use pandas.concat instead.\n",
            "  data = data.append({\"Name\":name, \"Market Cap (US$ Billion)\":market_cap}, ignore_index=True)\n",
            "<ipython-input-6-bdf669fa5743>:9: FutureWarning: The frame.append method is deprecated and will be removed from pandas in a future version. Use pandas.concat instead.\n",
            "  data = data.append({\"Name\":name, \"Market Cap (US$ Billion)\":market_cap}, ignore_index=True)\n",
            "<ipython-input-6-bdf669fa5743>:9: FutureWarning: The frame.append method is deprecated and will be removed from pandas in a future version. Use pandas.concat instead.\n",
            "  data = data.append({\"Name\":name, \"Market Cap (US$ Billion)\":market_cap}, ignore_index=True)\n",
            "<ipython-input-6-bdf669fa5743>:9: FutureWarning: The frame.append method is deprecated and will be removed from pandas in a future version. Use pandas.concat instead.\n",
            "  data = data.append({\"Name\":name, \"Market Cap (US$ Billion)\":market_cap}, ignore_index=True)\n",
            "<ipython-input-6-bdf669fa5743>:9: FutureWarning: The frame.append method is deprecated and will be removed from pandas in a future version. Use pandas.concat instead.\n",
            "  data = data.append({\"Name\":name, \"Market Cap (US$ Billion)\":market_cap}, ignore_index=True)\n",
            "<ipython-input-6-bdf669fa5743>:9: FutureWarning: The frame.append method is deprecated and will be removed from pandas in a future version. Use pandas.concat instead.\n",
            "  data = data.append({\"Name\":name, \"Market Cap (US$ Billion)\":market_cap}, ignore_index=True)\n",
            "<ipython-input-6-bdf669fa5743>:9: FutureWarning: The frame.append method is deprecated and will be removed from pandas in a future version. Use pandas.concat instead.\n",
            "  data = data.append({\"Name\":name, \"Market Cap (US$ Billion)\":market_cap}, ignore_index=True)\n",
            "<ipython-input-6-bdf669fa5743>:9: FutureWarning: The frame.append method is deprecated and will be removed from pandas in a future version. Use pandas.concat instead.\n",
            "  data = data.append({\"Name\":name, \"Market Cap (US$ Billion)\":market_cap}, ignore_index=True)\n",
            "<ipython-input-6-bdf669fa5743>:9: FutureWarning: The frame.append method is deprecated and will be removed from pandas in a future version. Use pandas.concat instead.\n",
            "  data = data.append({\"Name\":name, \"Market Cap (US$ Billion)\":market_cap}, ignore_index=True)\n",
            "<ipython-input-6-bdf669fa5743>:9: FutureWarning: The frame.append method is deprecated and will be removed from pandas in a future version. Use pandas.concat instead.\n",
            "  data = data.append({\"Name\":name, \"Market Cap (US$ Billion)\":market_cap}, ignore_index=True)\n",
            "<ipython-input-6-bdf669fa5743>:9: FutureWarning: The frame.append method is deprecated and will be removed from pandas in a future version. Use pandas.concat instead.\n",
            "  data = data.append({\"Name\":name, \"Market Cap (US$ Billion)\":market_cap}, ignore_index=True)\n"
          ]
        }
      ],
      "source": [
        "data = pd.DataFrame(columns=[\"Name\", \"Market Cap (US$ Billion)\"])\n",
        "\n",
        "for row in soup.find_all('tbody')[2].find_all('tr'):\n",
        "    col = row.find_all('td')\n",
        "    #Write your code here\n",
        "    if len(col) > 1:\n",
        "        name = col[1].text.strip()\n",
        "        market_cap = col[2].text.strip()\n",
        "        data = data.append({\"Name\":name, \"Market Cap (US$ Billion)\":market_cap}, ignore_index=True)"
      ]
    },
    {
      "cell_type": "markdown",
      "metadata": {
        "id": "q_uw1WwA7Yx6"
      },
      "source": [
        "**Question 3** Display the first five rows using the `head` function.\n"
      ]
    },
    {
      "cell_type": "code",
      "execution_count": 7,
      "metadata": {
        "tags": [],
        "colab": {
          "base_uri": "https://localhost:8080/",
          "height": 206
        },
        "id": "exVUClVv7Yx6",
        "outputId": "29773a7c-eb42-49c0-d3b4-cc429fdc1fcb"
      },
      "outputs": [
        {
          "output_type": "execute_result",
          "data": {
            "text/plain": [
              "                                      Name Market Cap (US$ Billion)\n",
              "0                           JPMorgan Chase                  390.934\n",
              "1  Industrial and Commercial Bank of China                  345.214\n",
              "2                          Bank of America                  325.331\n",
              "3                              Wells Fargo                  308.013\n",
              "4                  China Construction Bank                  257.399"
            ],
            "text/html": [
              "\n",
              "  <div id=\"df-bf7e03c5-0543-4e05-95b4-046fe27550a0\">\n",
              "    <div class=\"colab-df-container\">\n",
              "      <div>\n",
              "<style scoped>\n",
              "    .dataframe tbody tr th:only-of-type {\n",
              "        vertical-align: middle;\n",
              "    }\n",
              "\n",
              "    .dataframe tbody tr th {\n",
              "        vertical-align: top;\n",
              "    }\n",
              "\n",
              "    .dataframe thead th {\n",
              "        text-align: right;\n",
              "    }\n",
              "</style>\n",
              "<table border=\"1\" class=\"dataframe\">\n",
              "  <thead>\n",
              "    <tr style=\"text-align: right;\">\n",
              "      <th></th>\n",
              "      <th>Name</th>\n",
              "      <th>Market Cap (US$ Billion)</th>\n",
              "    </tr>\n",
              "  </thead>\n",
              "  <tbody>\n",
              "    <tr>\n",
              "      <th>0</th>\n",
              "      <td>JPMorgan Chase</td>\n",
              "      <td>390.934</td>\n",
              "    </tr>\n",
              "    <tr>\n",
              "      <th>1</th>\n",
              "      <td>Industrial and Commercial Bank of China</td>\n",
              "      <td>345.214</td>\n",
              "    </tr>\n",
              "    <tr>\n",
              "      <th>2</th>\n",
              "      <td>Bank of America</td>\n",
              "      <td>325.331</td>\n",
              "    </tr>\n",
              "    <tr>\n",
              "      <th>3</th>\n",
              "      <td>Wells Fargo</td>\n",
              "      <td>308.013</td>\n",
              "    </tr>\n",
              "    <tr>\n",
              "      <th>4</th>\n",
              "      <td>China Construction Bank</td>\n",
              "      <td>257.399</td>\n",
              "    </tr>\n",
              "  </tbody>\n",
              "</table>\n",
              "</div>\n",
              "      <button class=\"colab-df-convert\" onclick=\"convertToInteractive('df-bf7e03c5-0543-4e05-95b4-046fe27550a0')\"\n",
              "              title=\"Convert this dataframe to an interactive table.\"\n",
              "              style=\"display:none;\">\n",
              "        \n",
              "  <svg xmlns=\"http://www.w3.org/2000/svg\" height=\"24px\"viewBox=\"0 0 24 24\"\n",
              "       width=\"24px\">\n",
              "    <path d=\"M0 0h24v24H0V0z\" fill=\"none\"/>\n",
              "    <path d=\"M18.56 5.44l.94 2.06.94-2.06 2.06-.94-2.06-.94-.94-2.06-.94 2.06-2.06.94zm-11 1L8.5 8.5l.94-2.06 2.06-.94-2.06-.94L8.5 2.5l-.94 2.06-2.06.94zm10 10l.94 2.06.94-2.06 2.06-.94-2.06-.94-.94-2.06-.94 2.06-2.06.94z\"/><path d=\"M17.41 7.96l-1.37-1.37c-.4-.4-.92-.59-1.43-.59-.52 0-1.04.2-1.43.59L10.3 9.45l-7.72 7.72c-.78.78-.78 2.05 0 2.83L4 21.41c.39.39.9.59 1.41.59.51 0 1.02-.2 1.41-.59l7.78-7.78 2.81-2.81c.8-.78.8-2.07 0-2.86zM5.41 20L4 18.59l7.72-7.72 1.47 1.35L5.41 20z\"/>\n",
              "  </svg>\n",
              "      </button>\n",
              "      \n",
              "  <style>\n",
              "    .colab-df-container {\n",
              "      display:flex;\n",
              "      flex-wrap:wrap;\n",
              "      gap: 12px;\n",
              "    }\n",
              "\n",
              "    .colab-df-convert {\n",
              "      background-color: #E8F0FE;\n",
              "      border: none;\n",
              "      border-radius: 50%;\n",
              "      cursor: pointer;\n",
              "      display: none;\n",
              "      fill: #1967D2;\n",
              "      height: 32px;\n",
              "      padding: 0 0 0 0;\n",
              "      width: 32px;\n",
              "    }\n",
              "\n",
              "    .colab-df-convert:hover {\n",
              "      background-color: #E2EBFA;\n",
              "      box-shadow: 0px 1px 2px rgba(60, 64, 67, 0.3), 0px 1px 3px 1px rgba(60, 64, 67, 0.15);\n",
              "      fill: #174EA6;\n",
              "    }\n",
              "\n",
              "    [theme=dark] .colab-df-convert {\n",
              "      background-color: #3B4455;\n",
              "      fill: #D2E3FC;\n",
              "    }\n",
              "\n",
              "    [theme=dark] .colab-df-convert:hover {\n",
              "      background-color: #434B5C;\n",
              "      box-shadow: 0px 1px 3px 1px rgba(0, 0, 0, 0.15);\n",
              "      filter: drop-shadow(0px 1px 2px rgba(0, 0, 0, 0.3));\n",
              "      fill: #FFFFFF;\n",
              "    }\n",
              "  </style>\n",
              "\n",
              "      <script>\n",
              "        const buttonEl =\n",
              "          document.querySelector('#df-bf7e03c5-0543-4e05-95b4-046fe27550a0 button.colab-df-convert');\n",
              "        buttonEl.style.display =\n",
              "          google.colab.kernel.accessAllowed ? 'block' : 'none';\n",
              "\n",
              "        async function convertToInteractive(key) {\n",
              "          const element = document.querySelector('#df-bf7e03c5-0543-4e05-95b4-046fe27550a0');\n",
              "          const dataTable =\n",
              "            await google.colab.kernel.invokeFunction('convertToInteractive',\n",
              "                                                     [key], {});\n",
              "          if (!dataTable) return;\n",
              "\n",
              "          const docLinkHtml = 'Like what you see? Visit the ' +\n",
              "            '<a target=\"_blank\" href=https://colab.research.google.com/notebooks/data_table.ipynb>data table notebook</a>'\n",
              "            + ' to learn more about interactive tables.';\n",
              "          element.innerHTML = '';\n",
              "          dataTable['output_type'] = 'display_data';\n",
              "          await google.colab.output.renderOutput(dataTable, element);\n",
              "          const docLink = document.createElement('div');\n",
              "          docLink.innerHTML = docLinkHtml;\n",
              "          element.appendChild(docLink);\n",
              "        }\n",
              "      </script>\n",
              "    </div>\n",
              "  </div>\n",
              "  "
            ]
          },
          "metadata": {},
          "execution_count": 7
        }
      ],
      "source": [
        "#Write your code here\n",
        "data.head()"
      ]
    },
    {
      "cell_type": "markdown",
      "metadata": {
        "id": "yELSuOp87Yx7"
      },
      "source": [
        "\n",
        "### Loading the Data\n",
        "\n",
        "Load the `pandas` dataframe created above into a JSON named `bank_market_cap.json` using the `to_json()` function.\n"
      ]
    },
    {
      "cell_type": "code",
      "execution_count": 8,
      "metadata": {
        "id": "WwQ2n42t7Yx7"
      },
      "outputs": [],
      "source": [
        "#Write your code here\n",
        "data.to_json(\"bank_market_cap.json\")"
      ]
    },
    {
      "cell_type": "markdown",
      "metadata": {
        "id": "CdOCPzVK7Yx8"
      },
      "source": [
        "## Authors\n"
      ]
    },
    {
      "cell_type": "markdown",
      "metadata": {
        "id": "0zwCbmw67Yx8"
      },
      "source": [
        "Ramesh Sannareddy, Joseph Santarcangelo and Azim Hirjani\n"
      ]
    },
    {
      "cell_type": "markdown",
      "metadata": {
        "id": "lwZCgHH-7Yx8"
      },
      "source": [
        "### Other Contributors\n"
      ]
    },
    {
      "cell_type": "markdown",
      "metadata": {
        "id": "T6zv80pj7Yx8"
      },
      "source": [
        "Rav Ahuja\n"
      ]
    },
    {
      "cell_type": "markdown",
      "metadata": {
        "id": "LRjMLwLs7Yx9"
      },
      "source": [
        "## Change Log\n"
      ]
    },
    {
      "cell_type": "markdown",
      "metadata": {
        "id": "_CpsJURi7Yx9"
      },
      "source": [
        "| Date (YYYY-MM-DD) | Version | Changed By        | Change Description                 |\n",
        "| ----------------- | ------- | ----------------- | ---------------------------------- |\n",
        "| 2022-07-12        | 0.2     | Appalabhaktula Hema | Corrected the code and markdown |\n",
        "| 2020-11-25        | 0.1     | Ramesh Sannareddy | Created initial version of the lab |\n"
      ]
    },
    {
      "cell_type": "markdown",
      "metadata": {
        "id": "hma7UxWH7Yx9"
      },
      "source": [
        "Copyright © 2020 IBM Corporation.\n"
      ]
    }
  ],
  "metadata": {
    "kernelspec": {
      "display_name": "Python",
      "language": "python",
      "name": "conda-env-python-py"
    },
    "language_info": {
      "codemirror_mode": {
        "name": "ipython",
        "version": 3
      },
      "file_extension": ".py",
      "mimetype": "text/x-python",
      "name": "python",
      "nbconvert_exporter": "python",
      "pygments_lexer": "ipython3",
      "version": "3.7.12"
    },
    "colab": {
      "provenance": [],
      "include_colab_link": true
    }
  },
  "nbformat": 4,
  "nbformat_minor": 0
}