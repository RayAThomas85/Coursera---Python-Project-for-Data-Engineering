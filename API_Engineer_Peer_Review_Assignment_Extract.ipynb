{
  "cells": [
    {
      "cell_type": "markdown",
      "metadata": {
        "id": "view-in-github",
        "colab_type": "text"
      },
      "source": [
        "<a href=\"https://colab.research.google.com/github/RayAThomas85/Coursera---Python-Project-for-Data-Engineering/blob/main/API_Engineer_Peer_Review_Assignment_Extract.ipynb\" target=\"_parent\"><img src=\"https://colab.research.google.com/assets/colab-badge.svg\" alt=\"Open In Colab\"/></a>"
      ]
    },
    {
      "cell_type": "markdown",
      "metadata": {
        "id": "PKb04UJ4Kk7v"
      },
      "source": [
        "<p style=\"text-align:center\">\n",
        "    <a href=\"https://skills.network/?utm_medium=Exinfluencer&utm_source=Exinfluencer&utm_content=000026UJ&utm_term=10006555&utm_id=NA-SkillsNetwork-Channel-SkillsNetworkCoursesIBMDeveloperSkillsNetworkPY0221ENSkillsNetwork899-2023-01-01\">\n",
        "    <img src=\"https://cf-courses-data.s3.us.cloud-object-storage.appdomain.cloud/assets/logos/SN_web_lightmode.png\" width=\"200\" alt=\"Skills Network Logo\"  />\n",
        "    </a>\n",
        "</p>\n"
      ]
    },
    {
      "cell_type": "markdown",
      "metadata": {
        "id": "RphqRVDwKk70"
      },
      "source": [
        "# Peer Review Assignment - Data Engineer - Extract API Data\n"
      ]
    },
    {
      "cell_type": "markdown",
      "metadata": {
        "id": "D2j11yY5Kk71"
      },
      "source": [
        "Estimated time needed: **20** minutes\n"
      ]
    },
    {
      "cell_type": "markdown",
      "metadata": {
        "id": "wA0WweSjKk71"
      },
      "source": [
        "## Objectives\n",
        "\n",
        "In this part you will:\n",
        "\n",
        "-   Collect exchange rate data using an API\n",
        "-   Store the data as a CSV\n"
      ]
    },
    {
      "cell_type": "markdown",
      "metadata": {
        "id": "BI6g6SqGKk72"
      },
      "source": [
        "For this lab, we are going to be using Python and several Python libraries. Some of these libraries might be installed in your lab environment or in SN Labs. Others may need to be installed by you. The cells below will install these libraries when executed.\n"
      ]
    },
    {
      "cell_type": "code",
      "execution_count": 1,
      "metadata": {
        "tags": [],
        "id": "5zA78G30Kk73"
      },
      "outputs": [],
      "source": [
        "#!mamba install pandas==1.3.3 -y\n",
        "#!mamba install requests==2.26.0 -y"
      ]
    },
    {
      "cell_type": "markdown",
      "metadata": {
        "id": "r00PmY9gKk75"
      },
      "source": [
        "## Imports\n",
        "\n",
        "Import any additional libraries you may need here.\n"
      ]
    },
    {
      "cell_type": "code",
      "execution_count": 2,
      "metadata": {
        "tags": [],
        "id": "Uxl8CMPSKk76"
      },
      "outputs": [],
      "source": [
        "import requests\n",
        "import pandas as pd"
      ]
    },
    {
      "cell_type": "markdown",
      "metadata": {
        "id": "pOIY8kyUKk76"
      },
      "source": [
        "## Extract Data Using an API\n"
      ]
    },
    {
      "cell_type": "markdown",
      "metadata": {
        "id": "mZTs8T4SKk77"
      },
      "source": [
        "Using ExchangeRate-API we will extract currency exchange rate data. Use the below steps to get the access key and to get the data.\n",
        "1. Open the url : https://exchangeratesapi.io/ and click on **Get Free API Key**.\n",
        "2. Subscribe for Free plan and Sign-in with the Google Account.\n",
        "3. Once the account is created you will be redirected to https://apilayer.com website.\n",
        "2. Now, click on the **user icon** and click **Account** as shown below:\n",
        "\n",
        "<img src=\"https://cf-courses-data.s3.us.cloud-object-storage.appdomain.cloud/IBMDeveloperSkillsNetwork-PY0221EN-SkillsNetwork/labs/module%206/Final%20Assignment/Images/account.png\">\n",
        "\n",
        "3. Scroll down and you will get the API Key section. Copy the API key and use in the url in Question 1.\n"
      ]
    },
    {
      "cell_type": "markdown",
      "metadata": {
        "id": "sdCnsWpoKk78"
      },
      "source": [
        "### Call the API\n",
        "\n",
        " <b> Question 1</b> Using the `requests` library call the endpoint given above and save the text, remember the first few characters of the output:\n"
      ]
    },
    {
      "cell_type": "code",
      "execution_count": 3,
      "metadata": {
        "tags": [],
        "id": "4O59RHN3Kk78"
      },
      "outputs": [],
      "source": [
        "# Write your code here\n",
        "#url = \"https://api.apilayer.com/exchangerates_data/latest?base=EUR&apikey=*****Your API Key*****\" #Make sure to change ******* to your API key.\n",
        "url = \"https://api.apilayer.com/exchangerates_data/latest?base=EUR&apikey=IbXi9n5yMG5bGvFJ3xCa7O9c6Ki8hZLu\" #Make sure to change ******* to your API key.\n",
        "response = requests.get(url)"
      ]
    },
    {
      "cell_type": "code",
      "execution_count": 4,
      "metadata": {
        "tags": [],
        "colab": {
          "base_uri": "https://localhost:8080/"
        },
        "id": "XZlx98GeKk79",
        "outputId": "b589665e-e633-4154-fe0a-9770e22a4173"
      },
      "outputs": [
        {
          "output_type": "execute_result",
          "data": {
            "text/plain": [
              "<Response [200]>"
            ]
          },
          "metadata": {},
          "execution_count": 4
        }
      ],
      "source": [
        "response"
      ]
    },
    {
      "cell_type": "markdown",
      "metadata": {
        "id": "5X40KM4ZKk7-"
      },
      "source": [
        "### Save as DataFrame\n",
        "\n",
        " <b> Question 2</b>  Using the data gathered turn it into a `pandas` dataframe. The dataframe should have the Currency as the index and `Rate` as their columns. Make sure to drop unnecessary columns.\n"
      ]
    },
    {
      "cell_type": "code",
      "execution_count": 5,
      "metadata": {
        "tags": [],
        "colab": {
          "base_uri": "https://localhost:8080/",
          "height": 441
        },
        "id": "Mem9C7HcKk7_",
        "outputId": "0ee8cd1d-9b5a-49aa-8ca1-9a25b68d8f04"
      },
      "outputs": [
        {
          "output_type": "execute_result",
          "data": {
            "text/plain": [
              "     success   timestamp base        date        rates\n",
              "AED     True  1687069263  EUR  2023-06-18     4.025767\n",
              "AFN     True  1687069263  EUR  2023-06-18    95.910507\n",
              "ALL     True  1687069263  EUR  2023-06-18   108.186489\n",
              "AMD     True  1687069263  EUR  2023-06-18   423.675372\n",
              "ANG     True  1687069263  EUR  2023-06-18     1.973816\n",
              "..       ...         ...  ...         ...          ...\n",
              "YER     True  1687069263  EUR  2023-06-18   274.401544\n",
              "ZAR     True  1687069263  EUR  2023-06-18    19.936025\n",
              "ZMK     True  1687069263  EUR  2023-06-18  9865.949977\n",
              "ZMW     True  1687069263  EUR  2023-06-18    21.164035\n",
              "ZWL     True  1687069263  EUR  2023-06-18   352.934120\n",
              "\n",
              "[170 rows x 5 columns]"
            ],
            "text/html": [
              "\n",
              "  <div id=\"df-a3b4c285-3f8b-4d66-aa2c-a40e7c973a28\">\n",
              "    <div class=\"colab-df-container\">\n",
              "      <div>\n",
              "<style scoped>\n",
              "    .dataframe tbody tr th:only-of-type {\n",
              "        vertical-align: middle;\n",
              "    }\n",
              "\n",
              "    .dataframe tbody tr th {\n",
              "        vertical-align: top;\n",
              "    }\n",
              "\n",
              "    .dataframe thead th {\n",
              "        text-align: right;\n",
              "    }\n",
              "</style>\n",
              "<table border=\"1\" class=\"dataframe\">\n",
              "  <thead>\n",
              "    <tr style=\"text-align: right;\">\n",
              "      <th></th>\n",
              "      <th>success</th>\n",
              "      <th>timestamp</th>\n",
              "      <th>base</th>\n",
              "      <th>date</th>\n",
              "      <th>rates</th>\n",
              "    </tr>\n",
              "  </thead>\n",
              "  <tbody>\n",
              "    <tr>\n",
              "      <th>AED</th>\n",
              "      <td>True</td>\n",
              "      <td>1687069263</td>\n",
              "      <td>EUR</td>\n",
              "      <td>2023-06-18</td>\n",
              "      <td>4.025767</td>\n",
              "    </tr>\n",
              "    <tr>\n",
              "      <th>AFN</th>\n",
              "      <td>True</td>\n",
              "      <td>1687069263</td>\n",
              "      <td>EUR</td>\n",
              "      <td>2023-06-18</td>\n",
              "      <td>95.910507</td>\n",
              "    </tr>\n",
              "    <tr>\n",
              "      <th>ALL</th>\n",
              "      <td>True</td>\n",
              "      <td>1687069263</td>\n",
              "      <td>EUR</td>\n",
              "      <td>2023-06-18</td>\n",
              "      <td>108.186489</td>\n",
              "    </tr>\n",
              "    <tr>\n",
              "      <th>AMD</th>\n",
              "      <td>True</td>\n",
              "      <td>1687069263</td>\n",
              "      <td>EUR</td>\n",
              "      <td>2023-06-18</td>\n",
              "      <td>423.675372</td>\n",
              "    </tr>\n",
              "    <tr>\n",
              "      <th>ANG</th>\n",
              "      <td>True</td>\n",
              "      <td>1687069263</td>\n",
              "      <td>EUR</td>\n",
              "      <td>2023-06-18</td>\n",
              "      <td>1.973816</td>\n",
              "    </tr>\n",
              "    <tr>\n",
              "      <th>...</th>\n",
              "      <td>...</td>\n",
              "      <td>...</td>\n",
              "      <td>...</td>\n",
              "      <td>...</td>\n",
              "      <td>...</td>\n",
              "    </tr>\n",
              "    <tr>\n",
              "      <th>YER</th>\n",
              "      <td>True</td>\n",
              "      <td>1687069263</td>\n",
              "      <td>EUR</td>\n",
              "      <td>2023-06-18</td>\n",
              "      <td>274.401544</td>\n",
              "    </tr>\n",
              "    <tr>\n",
              "      <th>ZAR</th>\n",
              "      <td>True</td>\n",
              "      <td>1687069263</td>\n",
              "      <td>EUR</td>\n",
              "      <td>2023-06-18</td>\n",
              "      <td>19.936025</td>\n",
              "    </tr>\n",
              "    <tr>\n",
              "      <th>ZMK</th>\n",
              "      <td>True</td>\n",
              "      <td>1687069263</td>\n",
              "      <td>EUR</td>\n",
              "      <td>2023-06-18</td>\n",
              "      <td>9865.949977</td>\n",
              "    </tr>\n",
              "    <tr>\n",
              "      <th>ZMW</th>\n",
              "      <td>True</td>\n",
              "      <td>1687069263</td>\n",
              "      <td>EUR</td>\n",
              "      <td>2023-06-18</td>\n",
              "      <td>21.164035</td>\n",
              "    </tr>\n",
              "    <tr>\n",
              "      <th>ZWL</th>\n",
              "      <td>True</td>\n",
              "      <td>1687069263</td>\n",
              "      <td>EUR</td>\n",
              "      <td>2023-06-18</td>\n",
              "      <td>352.934120</td>\n",
              "    </tr>\n",
              "  </tbody>\n",
              "</table>\n",
              "<p>170 rows × 5 columns</p>\n",
              "</div>\n",
              "      <button class=\"colab-df-convert\" onclick=\"convertToInteractive('df-a3b4c285-3f8b-4d66-aa2c-a40e7c973a28')\"\n",
              "              title=\"Convert this dataframe to an interactive table.\"\n",
              "              style=\"display:none;\">\n",
              "        \n",
              "  <svg xmlns=\"http://www.w3.org/2000/svg\" height=\"24px\"viewBox=\"0 0 24 24\"\n",
              "       width=\"24px\">\n",
              "    <path d=\"M0 0h24v24H0V0z\" fill=\"none\"/>\n",
              "    <path d=\"M18.56 5.44l.94 2.06.94-2.06 2.06-.94-2.06-.94-.94-2.06-.94 2.06-2.06.94zm-11 1L8.5 8.5l.94-2.06 2.06-.94-2.06-.94L8.5 2.5l-.94 2.06-2.06.94zm10 10l.94 2.06.94-2.06 2.06-.94-2.06-.94-.94-2.06-.94 2.06-2.06.94z\"/><path d=\"M17.41 7.96l-1.37-1.37c-.4-.4-.92-.59-1.43-.59-.52 0-1.04.2-1.43.59L10.3 9.45l-7.72 7.72c-.78.78-.78 2.05 0 2.83L4 21.41c.39.39.9.59 1.41.59.51 0 1.02-.2 1.41-.59l7.78-7.78 2.81-2.81c.8-.78.8-2.07 0-2.86zM5.41 20L4 18.59l7.72-7.72 1.47 1.35L5.41 20z\"/>\n",
              "  </svg>\n",
              "      </button>\n",
              "      \n",
              "  <style>\n",
              "    .colab-df-container {\n",
              "      display:flex;\n",
              "      flex-wrap:wrap;\n",
              "      gap: 12px;\n",
              "    }\n",
              "\n",
              "    .colab-df-convert {\n",
              "      background-color: #E8F0FE;\n",
              "      border: none;\n",
              "      border-radius: 50%;\n",
              "      cursor: pointer;\n",
              "      display: none;\n",
              "      fill: #1967D2;\n",
              "      height: 32px;\n",
              "      padding: 0 0 0 0;\n",
              "      width: 32px;\n",
              "    }\n",
              "\n",
              "    .colab-df-convert:hover {\n",
              "      background-color: #E2EBFA;\n",
              "      box-shadow: 0px 1px 2px rgba(60, 64, 67, 0.3), 0px 1px 3px 1px rgba(60, 64, 67, 0.15);\n",
              "      fill: #174EA6;\n",
              "    }\n",
              "\n",
              "    [theme=dark] .colab-df-convert {\n",
              "      background-color: #3B4455;\n",
              "      fill: #D2E3FC;\n",
              "    }\n",
              "\n",
              "    [theme=dark] .colab-df-convert:hover {\n",
              "      background-color: #434B5C;\n",
              "      box-shadow: 0px 1px 3px 1px rgba(0, 0, 0, 0.15);\n",
              "      filter: drop-shadow(0px 1px 2px rgba(0, 0, 0, 0.3));\n",
              "      fill: #FFFFFF;\n",
              "    }\n",
              "  </style>\n",
              "\n",
              "      <script>\n",
              "        const buttonEl =\n",
              "          document.querySelector('#df-a3b4c285-3f8b-4d66-aa2c-a40e7c973a28 button.colab-df-convert');\n",
              "        buttonEl.style.display =\n",
              "          google.colab.kernel.accessAllowed ? 'block' : 'none';\n",
              "\n",
              "        async function convertToInteractive(key) {\n",
              "          const element = document.querySelector('#df-a3b4c285-3f8b-4d66-aa2c-a40e7c973a28');\n",
              "          const dataTable =\n",
              "            await google.colab.kernel.invokeFunction('convertToInteractive',\n",
              "                                                     [key], {});\n",
              "          if (!dataTable) return;\n",
              "\n",
              "          const docLinkHtml = 'Like what you see? Visit the ' +\n",
              "            '<a target=\"_blank\" href=https://colab.research.google.com/notebooks/data_table.ipynb>data table notebook</a>'\n",
              "            + ' to learn more about interactive tables.';\n",
              "          element.innerHTML = '';\n",
              "          dataTable['output_type'] = 'display_data';\n",
              "          await google.colab.output.renderOutput(dataTable, element);\n",
              "          const docLink = document.createElement('div');\n",
              "          docLink.innerHTML = docLinkHtml;\n",
              "          element.appendChild(docLink);\n",
              "        }\n",
              "      </script>\n",
              "    </div>\n",
              "  </div>\n",
              "  "
            ]
          },
          "metadata": {},
          "execution_count": 5
        }
      ],
      "source": [
        "# Turn the data into a dataframe\n",
        "df = pd.DataFrame(response.json())\n",
        "df"
      ]
    },
    {
      "cell_type": "code",
      "execution_count": 6,
      "metadata": {
        "tags": [],
        "colab": {
          "base_uri": "https://localhost:8080/",
          "height": 423
        },
        "id": "fLxym2zuKk7_",
        "outputId": "0eadf31f-bee5-4eb2-fdce-8799fed09710"
      },
      "outputs": [
        {
          "output_type": "execute_result",
          "data": {
            "text/plain": [
              "           Rates\n",
              "AED     4.025767\n",
              "AFN    95.910507\n",
              "ALL   108.186489\n",
              "AMD   423.675372\n",
              "ANG     1.973816\n",
              "..           ...\n",
              "YER   274.401544\n",
              "ZAR    19.936025\n",
              "ZMK  9865.949977\n",
              "ZMW    21.164035\n",
              "ZWL   352.934120\n",
              "\n",
              "[170 rows x 1 columns]"
            ],
            "text/html": [
              "\n",
              "  <div id=\"df-642fd6de-bdfd-404f-9acc-3cd540439a41\">\n",
              "    <div class=\"colab-df-container\">\n",
              "      <div>\n",
              "<style scoped>\n",
              "    .dataframe tbody tr th:only-of-type {\n",
              "        vertical-align: middle;\n",
              "    }\n",
              "\n",
              "    .dataframe tbody tr th {\n",
              "        vertical-align: top;\n",
              "    }\n",
              "\n",
              "    .dataframe thead th {\n",
              "        text-align: right;\n",
              "    }\n",
              "</style>\n",
              "<table border=\"1\" class=\"dataframe\">\n",
              "  <thead>\n",
              "    <tr style=\"text-align: right;\">\n",
              "      <th></th>\n",
              "      <th>Rates</th>\n",
              "    </tr>\n",
              "  </thead>\n",
              "  <tbody>\n",
              "    <tr>\n",
              "      <th>AED</th>\n",
              "      <td>4.025767</td>\n",
              "    </tr>\n",
              "    <tr>\n",
              "      <th>AFN</th>\n",
              "      <td>95.910507</td>\n",
              "    </tr>\n",
              "    <tr>\n",
              "      <th>ALL</th>\n",
              "      <td>108.186489</td>\n",
              "    </tr>\n",
              "    <tr>\n",
              "      <th>AMD</th>\n",
              "      <td>423.675372</td>\n",
              "    </tr>\n",
              "    <tr>\n",
              "      <th>ANG</th>\n",
              "      <td>1.973816</td>\n",
              "    </tr>\n",
              "    <tr>\n",
              "      <th>...</th>\n",
              "      <td>...</td>\n",
              "    </tr>\n",
              "    <tr>\n",
              "      <th>YER</th>\n",
              "      <td>274.401544</td>\n",
              "    </tr>\n",
              "    <tr>\n",
              "      <th>ZAR</th>\n",
              "      <td>19.936025</td>\n",
              "    </tr>\n",
              "    <tr>\n",
              "      <th>ZMK</th>\n",
              "      <td>9865.949977</td>\n",
              "    </tr>\n",
              "    <tr>\n",
              "      <th>ZMW</th>\n",
              "      <td>21.164035</td>\n",
              "    </tr>\n",
              "    <tr>\n",
              "      <th>ZWL</th>\n",
              "      <td>352.934120</td>\n",
              "    </tr>\n",
              "  </tbody>\n",
              "</table>\n",
              "<p>170 rows × 1 columns</p>\n",
              "</div>\n",
              "      <button class=\"colab-df-convert\" onclick=\"convertToInteractive('df-642fd6de-bdfd-404f-9acc-3cd540439a41')\"\n",
              "              title=\"Convert this dataframe to an interactive table.\"\n",
              "              style=\"display:none;\">\n",
              "        \n",
              "  <svg xmlns=\"http://www.w3.org/2000/svg\" height=\"24px\"viewBox=\"0 0 24 24\"\n",
              "       width=\"24px\">\n",
              "    <path d=\"M0 0h24v24H0V0z\" fill=\"none\"/>\n",
              "    <path d=\"M18.56 5.44l.94 2.06.94-2.06 2.06-.94-2.06-.94-.94-2.06-.94 2.06-2.06.94zm-11 1L8.5 8.5l.94-2.06 2.06-.94-2.06-.94L8.5 2.5l-.94 2.06-2.06.94zm10 10l.94 2.06.94-2.06 2.06-.94-2.06-.94-.94-2.06-.94 2.06-2.06.94z\"/><path d=\"M17.41 7.96l-1.37-1.37c-.4-.4-.92-.59-1.43-.59-.52 0-1.04.2-1.43.59L10.3 9.45l-7.72 7.72c-.78.78-.78 2.05 0 2.83L4 21.41c.39.39.9.59 1.41.59.51 0 1.02-.2 1.41-.59l7.78-7.78 2.81-2.81c.8-.78.8-2.07 0-2.86zM5.41 20L4 18.59l7.72-7.72 1.47 1.35L5.41 20z\"/>\n",
              "  </svg>\n",
              "      </button>\n",
              "      \n",
              "  <style>\n",
              "    .colab-df-container {\n",
              "      display:flex;\n",
              "      flex-wrap:wrap;\n",
              "      gap: 12px;\n",
              "    }\n",
              "\n",
              "    .colab-df-convert {\n",
              "      background-color: #E8F0FE;\n",
              "      border: none;\n",
              "      border-radius: 50%;\n",
              "      cursor: pointer;\n",
              "      display: none;\n",
              "      fill: #1967D2;\n",
              "      height: 32px;\n",
              "      padding: 0 0 0 0;\n",
              "      width: 32px;\n",
              "    }\n",
              "\n",
              "    .colab-df-convert:hover {\n",
              "      background-color: #E2EBFA;\n",
              "      box-shadow: 0px 1px 2px rgba(60, 64, 67, 0.3), 0px 1px 3px 1px rgba(60, 64, 67, 0.15);\n",
              "      fill: #174EA6;\n",
              "    }\n",
              "\n",
              "    [theme=dark] .colab-df-convert {\n",
              "      background-color: #3B4455;\n",
              "      fill: #D2E3FC;\n",
              "    }\n",
              "\n",
              "    [theme=dark] .colab-df-convert:hover {\n",
              "      background-color: #434B5C;\n",
              "      box-shadow: 0px 1px 3px 1px rgba(0, 0, 0, 0.15);\n",
              "      filter: drop-shadow(0px 1px 2px rgba(0, 0, 0, 0.3));\n",
              "      fill: #FFFFFF;\n",
              "    }\n",
              "  </style>\n",
              "\n",
              "      <script>\n",
              "        const buttonEl =\n",
              "          document.querySelector('#df-642fd6de-bdfd-404f-9acc-3cd540439a41 button.colab-df-convert');\n",
              "        buttonEl.style.display =\n",
              "          google.colab.kernel.accessAllowed ? 'block' : 'none';\n",
              "\n",
              "        async function convertToInteractive(key) {\n",
              "          const element = document.querySelector('#df-642fd6de-bdfd-404f-9acc-3cd540439a41');\n",
              "          const dataTable =\n",
              "            await google.colab.kernel.invokeFunction('convertToInteractive',\n",
              "                                                     [key], {});\n",
              "          if (!dataTable) return;\n",
              "\n",
              "          const docLinkHtml = 'Like what you see? Visit the ' +\n",
              "            '<a target=\"_blank\" href=https://colab.research.google.com/notebooks/data_table.ipynb>data table notebook</a>'\n",
              "            + ' to learn more about interactive tables.';\n",
              "          element.innerHTML = '';\n",
              "          dataTable['output_type'] = 'display_data';\n",
              "          await google.colab.output.renderOutput(dataTable, element);\n",
              "          const docLink = document.createElement('div');\n",
              "          docLink.innerHTML = docLinkHtml;\n",
              "          element.appendChild(docLink);\n",
              "        }\n",
              "      </script>\n",
              "    </div>\n",
              "  </div>\n",
              "  "
            ]
          },
          "metadata": {},
          "execution_count": 6
        }
      ],
      "source": [
        "# Drop unnescessary columns\n",
        "df = pd.DataFrame(df['rates'])\n",
        "df.columns = [\"Rates\"]\n",
        "df"
      ]
    },
    {
      "cell_type": "markdown",
      "metadata": {
        "id": "D4UU6O3FKk8A"
      },
      "source": [
        "### Load the Data\n",
        "\n",
        "Using the dataframe save it as a CSV names `exchange_rates_1.csv`.\n"
      ]
    },
    {
      "cell_type": "code",
      "execution_count": 7,
      "metadata": {
        "tags": [],
        "id": "D_qfG7xvKk8A"
      },
      "outputs": [],
      "source": [
        "# Save the Dataframe\n",
        "df.to_csv(\"exchange_rates_1.csv\")"
      ]
    },
    {
      "cell_type": "markdown",
      "metadata": {
        "id": "BSa9dxVNKk8B"
      },
      "source": [
        "Your CSV should be in this format with more currencies\n",
        "\n",
        "| | Rates |\n",
        "| ------- | ------- |\n",
        "|  AED| 4.398618    |\n",
        "|  AFN| 92.917693   |\n",
        "|  ALL| 123.099093  |\n",
        "|  AMD| 621.935674  |\n",
        "|  ANG| 2.149648    |\n"
      ]
    },
    {
      "cell_type": "markdown",
      "metadata": {
        "id": "Azb_Y9k2Kk8B"
      },
      "source": [
        "## Authors\n"
      ]
    },
    {
      "cell_type": "markdown",
      "metadata": {
        "id": "-LQRcrLVKk8B"
      },
      "source": [
        "Ramesh Sannareddy, Joseph Santarcangelo and Azim Hirjani\n"
      ]
    },
    {
      "cell_type": "markdown",
      "metadata": {
        "id": "KrOC6HrlKk8C"
      },
      "source": [
        "### Other Contributors\n"
      ]
    },
    {
      "cell_type": "markdown",
      "metadata": {
        "id": "Z6HJlp-oKk8C"
      },
      "source": [
        "Rav Ahuja\n"
      ]
    },
    {
      "cell_type": "markdown",
      "metadata": {
        "id": "Nw9ilqeXKk8D"
      },
      "source": [
        "## Change Log\n"
      ]
    },
    {
      "cell_type": "markdown",
      "metadata": {
        "id": "qpNruTEZKk8D"
      },
      "source": [
        "| Date (YYYY-MM-DD) | Version | Changed By        | Change Description                 |\n",
        "| ----------------- | ------- | ----------------- | ---------------------------------- |\n",
        "| 2022-05-06        | 0.3     | Malika            | Updated instructions to get the API and the url|\n",
        "| 2021-04-15        | 0.2     | Malika            | Updated the lab from USD to EUR    |\n",
        "| 2020-11-25        | 0.1     | Ramesh Sannareddy | Created initial version of the lab |\n"
      ]
    },
    {
      "cell_type": "markdown",
      "metadata": {
        "id": "VJygFffCKk8E"
      },
      "source": [
        " Copyright © 2020 IBM Corporation. This notebook and its source code are released under the terms of the [MIT License](https://cognitiveclass.ai/mit-license?utm_medium=Exinfluencer&utm_source=Exinfluencer&utm_content=000026UJ&utm_term=10006555&utm_id=NA-SkillsNetwork-Channel-SkillsNetworkCoursesIBMDeveloperSkillsNetworkPY0221ENSkillsNetwork899-2023-01-01&cm_mmc=Email_Newsletter-_-Developer_Ed%2BTech-_-WW_WW-_-SkillsNetwork-Courses-IBM-DA0321EN-SkillsNetwork-21426264&cm_mmca1=000026UJ&cm_mmca2=10006555&cm_mmca3=M12345678&cvosrc=email.Newsletter.M12345678&cvo_campaign=000026UJ).\n"
      ]
    }
  ],
  "metadata": {
    "kernelspec": {
      "display_name": "Python",
      "language": "python",
      "name": "conda-env-python-py"
    },
    "language_info": {
      "codemirror_mode": {
        "name": "ipython",
        "version": 3
      },
      "file_extension": ".py",
      "mimetype": "text/x-python",
      "name": "python",
      "nbconvert_exporter": "python",
      "pygments_lexer": "ipython3",
      "version": "3.7.12"
    },
    "colab": {
      "provenance": [],
      "include_colab_link": true
    }
  },
  "nbformat": 4,
  "nbformat_minor": 0
}